{
  "cells": [
    {
      "cell_type": "markdown",
      "metadata": {
        "heading_collapsed": true,
        "id": "Is_9Rr8cOLCT"
      },
      "source": [
        "## Instrucciones de instalación  especiales para esta práctica\n",
        "Para visualizar los árboles se necesita la libreria `graphviz`. De forma opcional (pero muy recomendada), se recomienda la instalación de la librería: `XGBoost`.\n",
        "\n",
        "Al entrar en miniconda y una vez dentro del entorno AB (`activate AB`), se instala las mencionadas librerías anteriores mediante las instrucciones (por separado):\n",
        "\n",
        "`conda install python-graphviz`\n",
        "\n",
        "`conda install -c conda-forge xgboost`\n",
        "\n",
        "\n",
        "----"
      ]
    },
    {
      "cell_type": "code",
      "execution_count": 2,
      "metadata": {
        "hidden": true,
        "id": "kPtc9_RROLCa"
      },
      "outputs": [],
      "source": [
        "# Cargando modulos\n",
        "# %load ../standard_import.txt\n",
        "import pandas as pd\n",
        "import numpy as np\n",
        "import matplotlib.pyplot as plt\n",
        "import seaborn as sns\n",
        "\n",
        "# import pydot\n",
        "from IPython.display import Image\n",
        "\n",
        "from sklearn.model_selection import train_test_split, cross_val_score, KFold, GridSearchCV, RandomizedSearchCV\n",
        "# from sklearn.externals.six import StringIO \n",
        "import graphviz \n",
        "\n",
        "from sklearn.tree import plot_tree\n",
        "from sklearn.tree import DecisionTreeRegressor, DecisionTreeClassifier, export_graphviz\n",
        "from sklearn.ensemble import BaggingClassifier, RandomForestClassifier, BaggingRegressor, RandomForestRegressor, GradientBoostingRegressor, GradientBoostingClassifier\n",
        "from sklearn.metrics import mean_squared_error,confusion_matrix, classification_report, r2_score\n",
        "\n",
        "from xgboost import XGBClassifier, XGBRegressor\n",
        "from scipy.stats import randint, uniform\n",
        "\n",
        "import warnings\n",
        "warnings.filterwarnings('ignore')\n",
        "\n",
        "# Para ser reproducible\n",
        "np.random.seed(42)\n",
        "\n",
        "%matplotlib inline\n"
      ]
    },
    {
      "cell_type": "markdown",
      "metadata": {
        "hidden": true,
        "id": "0BI1Gge6OLCd"
      },
      "source": [
        "#### Función especial para crear y visualizar los árboles usando `pydot`"
      ]
    },
    {
      "cell_type": "code",
      "execution_count": 5,
      "metadata": {
        "hidden": true,
        "id": "AM1eBHMDOLCe"
      },
      "outputs": [],
      "source": [
        "def print_tree(estimator, features, class_names=None, filled=True):\n",
        "    tree = estimator\n",
        "    names = features\n",
        "    color = filled\n",
        "    classn = class_names\n",
        "    \n",
        "    dot_data = export_graphviz(estimator, out_file=None, feature_names=features, class_names=classn, filled=filled)\n",
        "    graph = graphviz.Source(dot_data)\n",
        "    return(graph)"
      ]
    },
    {
      "cell_type": "markdown",
      "metadata": {
        "heading_collapsed": true,
        "id": "l90NlqusOLCf"
      },
      "source": [
        "## Árboles de regresión"
      ]
    },
    {
      "cell_type": "code",
      "execution_count": 38,
      "metadata": {
        "hidden": true,
        "colab": {
          "base_uri": "https://localhost:8080/"
        },
        "id": "-0DQI7BYOLCf",
        "outputId": "3ad40be5-190b-45a3-8c63-6802c35b62e7"
      },
      "outputs": [
        {
          "output_type": "stream",
          "name": "stdout",
          "text": [
            "<class 'pandas.core.frame.DataFrame'>\n",
            "Int64Index: 119 entries, 0 to 157\n",
            "Data columns (total 26 columns):\n",
            " #   Column                Non-Null Count  Dtype  \n",
            "---  ------                --------------  -----  \n",
            " 0   key                   119 non-null    int64  \n",
            " 1   name                  119 non-null    object \n",
            " 2   hp                    119 non-null    float64\n",
            " 3   hpperlevel            119 non-null    int64  \n",
            " 4   mp                    119 non-null    float64\n",
            " 5   mpperlevel            119 non-null    float64\n",
            " 6   movespeed             119 non-null    int64  \n",
            " 7   armor                 119 non-null    int64  \n",
            " 8   armorperlevel         119 non-null    float64\n",
            " 9   spellblock            119 non-null    float64\n",
            " 10  spellblockperlevel    119 non-null    float64\n",
            " 11  attackrange           119 non-null    int64  \n",
            " 12  hpregen               119 non-null    float64\n",
            " 13  hpregenperlevel       119 non-null    float64\n",
            " 14  mpregen               119 non-null    float64\n",
            " 15  mpregenperlevel       119 non-null    float64\n",
            " 16  crit                  119 non-null    int64  \n",
            " 17  critperlevel          119 non-null    int64  \n",
            " 18  attackdamage          119 non-null    float64\n",
            " 19  attackdamageperlevel  119 non-null    float64\n",
            " 20  attackspeedperlevel   119 non-null    float64\n",
            " 21  attackspeed           119 non-null    float64\n",
            " 22  tag1                  119 non-null    object \n",
            " 23  tag2                  119 non-null    object \n",
            " 24  playrate              119 non-null    float64\n",
            " 25  winrate               119 non-null    float64\n",
            "dtypes: float64(16), int64(7), object(3)\n",
            "memory usage: 25.1+ KB\n"
          ]
        }
      ],
      "source": [
        "# Importando el dataset hitters.csv\n",
        "df = pd.read_csv(\"/content/Champions.csv\").dropna()\n",
        "df.info()\n",
        "df[\"winrate\"] = np.round(df[\"winrate\"])\n",
        "y = df[\"winrate\"] # Logaritmo del salario\n",
        "df = df.drop(columns=[\"name\", \"tag1\", \"tag2\", \"key\",\"winrate\"])"
      ]
    },
    {
      "cell_type": "code",
      "execution_count": 39,
      "metadata": {
        "hidden": true,
        "colab": {
          "base_uri": "https://localhost:8080/",
          "height": 300
        },
        "id": "kiwWHr1bOLCg",
        "outputId": "8e63b819-3a67-4101-ea1a-55808e5988fb"
      },
      "outputs": [
        {
          "output_type": "execute_result",
          "data": {
            "text/plain": [
              "      hp  hpperlevel     mp  mpperlevel  movespeed  armor  armorperlevel  \\\n",
              "0  650.0         104    0.0         0.0        345     38           4.45   \n",
              "2  646.0          99  339.0        52.0        340     35           5.00   \n",
              "3  652.0         114  263.0        57.5        340     39           5.20   \n",
              "4  640.0         109  375.0        25.0        345     31           4.30   \n",
              "5  653.0         103    0.0         0.0        345     32           4.20   \n",
              "\n",
              "   spellblock  spellblockperlevel  attackrange  ...  hpregenperlevel  mpregen  \\\n",
              "0        32.0                2.05          175  ...             1.00     0.00   \n",
              "2        32.1                2.05          125  ...             0.80     8.15   \n",
              "3        32.0                2.05          175  ...             0.95     6.60   \n",
              "4        32.0                2.05          150  ...             0.85     8.00   \n",
              "5        32.0                2.05          125  ...             0.75     0.00   \n",
              "\n",
              "   mpregenperlevel  crit  critperlevel  attackdamage  attackdamageperlevel  \\\n",
              "0             0.00     0             0          60.0                   5.0   \n",
              "2             0.75     0             0          68.0                   3.5   \n",
              "3             0.35     0             0          64.0                   5.0   \n",
              "4             0.80     0             0          57.0                   3.0   \n",
              "5             0.00     0             0          61.0                   3.5   \n",
              "\n",
              "   attackspeedperlevel  attackspeed  playrate  \n",
              "0                 2.50        0.651     0.097  \n",
              "2                 2.50        0.644     0.076  \n",
              "3                 1.00        0.625     0.087  \n",
              "4                 2.25        0.625     0.132  \n",
              "5                 3.30        0.720     0.019  \n",
              "\n",
              "[5 rows x 21 columns]"
            ],
            "text/html": [
              "\n",
              "  <div id=\"df-dae5767e-71af-4479-91bd-c5eaef197a92\">\n",
              "    <div class=\"colab-df-container\">\n",
              "      <div>\n",
              "<style scoped>\n",
              "    .dataframe tbody tr th:only-of-type {\n",
              "        vertical-align: middle;\n",
              "    }\n",
              "\n",
              "    .dataframe tbody tr th {\n",
              "        vertical-align: top;\n",
              "    }\n",
              "\n",
              "    .dataframe thead th {\n",
              "        text-align: right;\n",
              "    }\n",
              "</style>\n",
              "<table border=\"1\" class=\"dataframe\">\n",
              "  <thead>\n",
              "    <tr style=\"text-align: right;\">\n",
              "      <th></th>\n",
              "      <th>hp</th>\n",
              "      <th>hpperlevel</th>\n",
              "      <th>mp</th>\n",
              "      <th>mpperlevel</th>\n",
              "      <th>movespeed</th>\n",
              "      <th>armor</th>\n",
              "      <th>armorperlevel</th>\n",
              "      <th>spellblock</th>\n",
              "      <th>spellblockperlevel</th>\n",
              "      <th>attackrange</th>\n",
              "      <th>...</th>\n",
              "      <th>hpregenperlevel</th>\n",
              "      <th>mpregen</th>\n",
              "      <th>mpregenperlevel</th>\n",
              "      <th>crit</th>\n",
              "      <th>critperlevel</th>\n",
              "      <th>attackdamage</th>\n",
              "      <th>attackdamageperlevel</th>\n",
              "      <th>attackspeedperlevel</th>\n",
              "      <th>attackspeed</th>\n",
              "      <th>playrate</th>\n",
              "    </tr>\n",
              "  </thead>\n",
              "  <tbody>\n",
              "    <tr>\n",
              "      <th>0</th>\n",
              "      <td>650.0</td>\n",
              "      <td>104</td>\n",
              "      <td>0.0</td>\n",
              "      <td>0.0</td>\n",
              "      <td>345</td>\n",
              "      <td>38</td>\n",
              "      <td>4.45</td>\n",
              "      <td>32.0</td>\n",
              "      <td>2.05</td>\n",
              "      <td>175</td>\n",
              "      <td>...</td>\n",
              "      <td>1.00</td>\n",
              "      <td>0.00</td>\n",
              "      <td>0.00</td>\n",
              "      <td>0</td>\n",
              "      <td>0</td>\n",
              "      <td>60.0</td>\n",
              "      <td>5.0</td>\n",
              "      <td>2.50</td>\n",
              "      <td>0.651</td>\n",
              "      <td>0.097</td>\n",
              "    </tr>\n",
              "    <tr>\n",
              "      <th>2</th>\n",
              "      <td>646.0</td>\n",
              "      <td>99</td>\n",
              "      <td>339.0</td>\n",
              "      <td>52.0</td>\n",
              "      <td>340</td>\n",
              "      <td>35</td>\n",
              "      <td>5.00</td>\n",
              "      <td>32.1</td>\n",
              "      <td>2.05</td>\n",
              "      <td>125</td>\n",
              "      <td>...</td>\n",
              "      <td>0.80</td>\n",
              "      <td>8.15</td>\n",
              "      <td>0.75</td>\n",
              "      <td>0</td>\n",
              "      <td>0</td>\n",
              "      <td>68.0</td>\n",
              "      <td>3.5</td>\n",
              "      <td>2.50</td>\n",
              "      <td>0.644</td>\n",
              "      <td>0.076</td>\n",
              "    </tr>\n",
              "    <tr>\n",
              "      <th>3</th>\n",
              "      <td>652.0</td>\n",
              "      <td>114</td>\n",
              "      <td>263.0</td>\n",
              "      <td>57.5</td>\n",
              "      <td>340</td>\n",
              "      <td>39</td>\n",
              "      <td>5.20</td>\n",
              "      <td>32.0</td>\n",
              "      <td>2.05</td>\n",
              "      <td>175</td>\n",
              "      <td>...</td>\n",
              "      <td>0.95</td>\n",
              "      <td>6.60</td>\n",
              "      <td>0.35</td>\n",
              "      <td>0</td>\n",
              "      <td>0</td>\n",
              "      <td>64.0</td>\n",
              "      <td>5.0</td>\n",
              "      <td>1.00</td>\n",
              "      <td>0.625</td>\n",
              "      <td>0.087</td>\n",
              "    </tr>\n",
              "    <tr>\n",
              "      <th>4</th>\n",
              "      <td>640.0</td>\n",
              "      <td>109</td>\n",
              "      <td>375.0</td>\n",
              "      <td>25.0</td>\n",
              "      <td>345</td>\n",
              "      <td>31</td>\n",
              "      <td>4.30</td>\n",
              "      <td>32.0</td>\n",
              "      <td>2.05</td>\n",
              "      <td>150</td>\n",
              "      <td>...</td>\n",
              "      <td>0.85</td>\n",
              "      <td>8.00</td>\n",
              "      <td>0.80</td>\n",
              "      <td>0</td>\n",
              "      <td>0</td>\n",
              "      <td>57.0</td>\n",
              "      <td>3.0</td>\n",
              "      <td>2.25</td>\n",
              "      <td>0.625</td>\n",
              "      <td>0.132</td>\n",
              "    </tr>\n",
              "    <tr>\n",
              "      <th>5</th>\n",
              "      <td>653.0</td>\n",
              "      <td>103</td>\n",
              "      <td>0.0</td>\n",
              "      <td>0.0</td>\n",
              "      <td>345</td>\n",
              "      <td>32</td>\n",
              "      <td>4.20</td>\n",
              "      <td>32.0</td>\n",
              "      <td>2.05</td>\n",
              "      <td>125</td>\n",
              "      <td>...</td>\n",
              "      <td>0.75</td>\n",
              "      <td>0.00</td>\n",
              "      <td>0.00</td>\n",
              "      <td>0</td>\n",
              "      <td>0</td>\n",
              "      <td>61.0</td>\n",
              "      <td>3.5</td>\n",
              "      <td>3.30</td>\n",
              "      <td>0.720</td>\n",
              "      <td>0.019</td>\n",
              "    </tr>\n",
              "  </tbody>\n",
              "</table>\n",
              "<p>5 rows × 21 columns</p>\n",
              "</div>\n",
              "      <button class=\"colab-df-convert\" onclick=\"convertToInteractive('df-dae5767e-71af-4479-91bd-c5eaef197a92')\"\n",
              "              title=\"Convert this dataframe to an interactive table.\"\n",
              "              style=\"display:none;\">\n",
              "        \n",
              "  <svg xmlns=\"http://www.w3.org/2000/svg\" height=\"24px\"viewBox=\"0 0 24 24\"\n",
              "       width=\"24px\">\n",
              "    <path d=\"M0 0h24v24H0V0z\" fill=\"none\"/>\n",
              "    <path d=\"M18.56 5.44l.94 2.06.94-2.06 2.06-.94-2.06-.94-.94-2.06-.94 2.06-2.06.94zm-11 1L8.5 8.5l.94-2.06 2.06-.94-2.06-.94L8.5 2.5l-.94 2.06-2.06.94zm10 10l.94 2.06.94-2.06 2.06-.94-2.06-.94-.94-2.06-.94 2.06-2.06.94z\"/><path d=\"M17.41 7.96l-1.37-1.37c-.4-.4-.92-.59-1.43-.59-.52 0-1.04.2-1.43.59L10.3 9.45l-7.72 7.72c-.78.78-.78 2.05 0 2.83L4 21.41c.39.39.9.59 1.41.59.51 0 1.02-.2 1.41-.59l7.78-7.78 2.81-2.81c.8-.78.8-2.07 0-2.86zM5.41 20L4 18.59l7.72-7.72 1.47 1.35L5.41 20z\"/>\n",
              "  </svg>\n",
              "      </button>\n",
              "      \n",
              "  <style>\n",
              "    .colab-df-container {\n",
              "      display:flex;\n",
              "      flex-wrap:wrap;\n",
              "      gap: 12px;\n",
              "    }\n",
              "\n",
              "    .colab-df-convert {\n",
              "      background-color: #E8F0FE;\n",
              "      border: none;\n",
              "      border-radius: 50%;\n",
              "      cursor: pointer;\n",
              "      display: none;\n",
              "      fill: #1967D2;\n",
              "      height: 32px;\n",
              "      padding: 0 0 0 0;\n",
              "      width: 32px;\n",
              "    }\n",
              "\n",
              "    .colab-df-convert:hover {\n",
              "      background-color: #E2EBFA;\n",
              "      box-shadow: 0px 1px 2px rgba(60, 64, 67, 0.3), 0px 1px 3px 1px rgba(60, 64, 67, 0.15);\n",
              "      fill: #174EA6;\n",
              "    }\n",
              "\n",
              "    [theme=dark] .colab-df-convert {\n",
              "      background-color: #3B4455;\n",
              "      fill: #D2E3FC;\n",
              "    }\n",
              "\n",
              "    [theme=dark] .colab-df-convert:hover {\n",
              "      background-color: #434B5C;\n",
              "      box-shadow: 0px 1px 3px 1px rgba(0, 0, 0, 0.15);\n",
              "      filter: drop-shadow(0px 1px 2px rgba(0, 0, 0, 0.3));\n",
              "      fill: #FFFFFF;\n",
              "    }\n",
              "  </style>\n",
              "\n",
              "      <script>\n",
              "        const buttonEl =\n",
              "          document.querySelector('#df-dae5767e-71af-4479-91bd-c5eaef197a92 button.colab-df-convert');\n",
              "        buttonEl.style.display =\n",
              "          google.colab.kernel.accessAllowed ? 'block' : 'none';\n",
              "\n",
              "        async function convertToInteractive(key) {\n",
              "          const element = document.querySelector('#df-dae5767e-71af-4479-91bd-c5eaef197a92');\n",
              "          const dataTable =\n",
              "            await google.colab.kernel.invokeFunction('convertToInteractive',\n",
              "                                                     [key], {});\n",
              "          if (!dataTable) return;\n",
              "\n",
              "          const docLinkHtml = 'Like what you see? Visit the ' +\n",
              "            '<a target=\"_blank\" href=https://colab.research.google.com/notebooks/data_table.ipynb>data table notebook</a>'\n",
              "            + ' to learn more about interactive tables.';\n",
              "          element.innerHTML = '';\n",
              "          dataTable['output_type'] = 'display_data';\n",
              "          await google.colab.output.renderOutput(dataTable, element);\n",
              "          const docLink = document.createElement('div');\n",
              "          docLink.innerHTML = docLinkHtml;\n",
              "          element.appendChild(docLink);\n",
              "        }\n",
              "      </script>\n",
              "    </div>\n",
              "  </div>\n",
              "  "
            ]
          },
          "metadata": {},
          "execution_count": 39
        }
      ],
      "source": [
        "df.head()"
      ]
    },
    {
      "cell_type": "markdown",
      "metadata": {
        "hidden": true,
        "id": "TNEPu0rsOLCg"
      },
      "source": [
        "Se define los descriptores `X` y la variable de salida `y`. También, se grafica la distribución del salario, y su transformación logaritmica:"
      ]
    },
    {
      "cell_type": "code",
      "execution_count": 40,
      "metadata": {
        "hidden": true,
        "id": "tPpz_2oWOLCh"
      },
      "outputs": [],
      "source": [
        "\n",
        "X = df # Solo numeros en un array de Numpy\n"
      ]
    },
    {
      "cell_type": "markdown",
      "metadata": {
        "hidden": true,
        "id": "787mBdAMOLCi"
      },
      "source": [
        "Se instancia el objeto (estimador predictor) con 3 como máximo número de hojas, y luego se ajusta:"
      ]
    },
    {
      "cell_type": "code",
      "execution_count": 41,
      "metadata": {
        "hidden": true,
        "colab": {
          "base_uri": "https://localhost:8080/"
        },
        "id": "MDHTyRE-OLCj",
        "outputId": "b1819ecd-e6b0-4fcc-90b1-d0d7f4a8a032"
      },
      "outputs": [
        {
          "output_type": "execute_result",
          "data": {
            "text/plain": [
              "DecisionTreeRegressor(max_leaf_nodes=3)"
            ]
          },
          "metadata": {},
          "execution_count": 41
        }
      ],
      "source": [
        "regr = DecisionTreeRegressor(max_leaf_nodes=3)\n",
        "regr.fit(X, y)"
      ]
    },
    {
      "cell_type": "code",
      "execution_count": 42,
      "metadata": {
        "hidden": true,
        "scrolled": true,
        "colab": {
          "base_uri": "https://localhost:8080/"
        },
        "id": "fSLH_4M7OLCj",
        "outputId": "f947a07e-6f5a-4100-cd95-cc0445be7c9a"
      },
      "outputs": [
        {
          "output_type": "execute_result",
          "data": {
            "text/plain": [
              "0.18016106153861244"
            ]
          },
          "metadata": {},
          "execution_count": 42
        }
      ],
      "source": [
        "# R^2 del training\n",
        "regr.score(X,y)"
      ]
    },
    {
      "cell_type": "code",
      "execution_count": 43,
      "metadata": {
        "hidden": true,
        "scrolled": true,
        "colab": {
          "base_uri": "https://localhost:8080/",
          "height": 303
        },
        "id": "RG9tL52zOLCk",
        "outputId": "5d73de43-e416-4abe-d897-295290bbfc3e"
      },
      "outputs": [
        {
          "output_type": "display_data",
          "data": {
            "text/plain": [
              "<Figure size 360x360 with 1 Axes>"
            ],
            "image/png": "[encoded data removed]"
          },
          "metadata": {
            "needs_background": "light"
          }
        }
      ],
      "source": [
        "#Metodo plot_tree\n",
        "plt.figure(figsize=(5,5))\n",
        "plot_tree(regr);"
      ]
    },
    {
      "cell_type": "code",
      "execution_count": 44,
      "metadata": {
        "hidden": true,
        "scrolled": false,
        "colab": {
          "base_uri": "https://localhost:8080/",
          "height": 363
        },
        "id": "wyUY-AvvOLCk",
        "outputId": "d962c8b3-4b23-4f5e-e46c-0919e279fe31"
      },
      "outputs": [
        {
          "output_type": "error",
          "ename": "ValueError",
          "evalue": "ignored",
          "traceback": [
            "\u001b[0;31m---------------------------------------------------------------------------\u001b[0m",
            "\u001b[0;31mValueError\u001b[0m                                Traceback (most recent call last)",
            "\u001b[0;32m<ipython-input-44-55a113825a11>\u001b[0m in \u001b[0;36m<module>\u001b[0;34m\u001b[0m\n\u001b[1;32m      1\u001b[0m \u001b[0;31m#Método graphviz\u001b[0m\u001b[0;34m\u001b[0m\u001b[0;34m\u001b[0m\u001b[0;34m\u001b[0m\u001b[0m\n\u001b[1;32m      2\u001b[0m \u001b[0;31m# Se visualiza usando la funcion creada al inicio \"print_tree\"\u001b[0m\u001b[0;34m\u001b[0m\u001b[0;34m\u001b[0m\u001b[0;34m\u001b[0m\u001b[0m\n\u001b[0;32m----> 3\u001b[0;31m \u001b[0mgraph\u001b[0m \u001b[0;34m=\u001b[0m \u001b[0mprint_tree\u001b[0m\u001b[0;34m(\u001b[0m\u001b[0mregr\u001b[0m\u001b[0;34m,\u001b[0m \u001b[0mfeatures\u001b[0m\u001b[0;34m=\u001b[0m\u001b[0;34m[\u001b[0m\u001b[0;34m'Years'\u001b[0m\u001b[0;34m,\u001b[0m \u001b[0;34m'Hits'\u001b[0m\u001b[0;34m]\u001b[0m\u001b[0;34m)\u001b[0m\u001b[0;34m\u001b[0m\u001b[0;34m\u001b[0m\u001b[0m\n\u001b[0m\u001b[1;32m      4\u001b[0m \u001b[0mgraph\u001b[0m\u001b[0;34m\u001b[0m\u001b[0;34m\u001b[0m\u001b[0m\n",
            "\u001b[0;32m<ipython-input-5-b19271bd79a2>\u001b[0m in \u001b[0;36mprint_tree\u001b[0;34m(estimator, features, class_names, filled)\u001b[0m\n\u001b[1;32m      5\u001b[0m     \u001b[0mclassn\u001b[0m \u001b[0;34m=\u001b[0m \u001b[0mclass_names\u001b[0m\u001b[0;34m\u001b[0m\u001b[0;34m\u001b[0m\u001b[0m\n\u001b[1;32m      6\u001b[0m \u001b[0;34m\u001b[0m\u001b[0m\n\u001b[0;32m----> 7\u001b[0;31m     \u001b[0mdot_data\u001b[0m \u001b[0;34m=\u001b[0m \u001b[0mexport_graphviz\u001b[0m\u001b[0;34m(\u001b[0m\u001b[0mestimator\u001b[0m\u001b[0;34m,\u001b[0m \u001b[0mout_file\u001b[0m\u001b[0;34m=\u001b[0m\u001b[0;32mNone\u001b[0m\u001b[0;34m,\u001b[0m \u001b[0mfeature_names\u001b[0m\u001b[0;34m=\u001b[0m\u001b[0mfeatures\u001b[0m\u001b[0;34m,\u001b[0m \u001b[0mclass_names\u001b[0m\u001b[0;34m=\u001b[0m\u001b[0mclassn\u001b[0m\u001b[0;34m,\u001b[0m \u001b[0mfilled\u001b[0m\u001b[0;34m=\u001b[0m\u001b[0mfilled\u001b[0m\u001b[0;34m)\u001b[0m\u001b[0;34m\u001b[0m\u001b[0;34m\u001b[0m\u001b[0m\n\u001b[0m\u001b[1;32m      8\u001b[0m     \u001b[0mgraph\u001b[0m \u001b[0;34m=\u001b[0m \u001b[0mgraphviz\u001b[0m\u001b[0;34m.\u001b[0m\u001b[0mSource\u001b[0m\u001b[0;34m(\u001b[0m\u001b[0mdot_data\u001b[0m\u001b[0;34m)\u001b[0m\u001b[0;34m\u001b[0m\u001b[0;34m\u001b[0m\u001b[0m\n\u001b[1;32m      9\u001b[0m     \u001b[0;32mreturn\u001b[0m\u001b[0;34m(\u001b[0m\u001b[0mgraph\u001b[0m\u001b[0;34m)\u001b[0m\u001b[0;34m\u001b[0m\u001b[0;34m\u001b[0m\u001b[0m\n",
            "\u001b[0;32m/usr/local/lib/python3.7/dist-packages/sklearn/tree/_export.py\u001b[0m in \u001b[0;36mexport_graphviz\u001b[0;34m(decision_tree, out_file, max_depth, feature_names, class_names, label, filled, leaves_parallel, impurity, node_ids, proportion, rotate, rounded, special_characters, precision, fontname)\u001b[0m\n\u001b[1;32m    887\u001b[0m             \u001b[0mfontname\u001b[0m\u001b[0;34m=\u001b[0m\u001b[0mfontname\u001b[0m\u001b[0;34m,\u001b[0m\u001b[0;34m\u001b[0m\u001b[0;34m\u001b[0m\u001b[0m\n\u001b[1;32m    888\u001b[0m         )\n\u001b[0;32m--> 889\u001b[0;31m         \u001b[0mexporter\u001b[0m\u001b[0;34m.\u001b[0m\u001b[0mexport\u001b[0m\u001b[0;34m(\u001b[0m\u001b[0mdecision_tree\u001b[0m\u001b[0;34m)\u001b[0m\u001b[0;34m\u001b[0m\u001b[0;34m\u001b[0m\u001b[0m\n\u001b[0m\u001b[1;32m    890\u001b[0m \u001b[0;34m\u001b[0m\u001b[0m\n\u001b[1;32m    891\u001b[0m         \u001b[0;32mif\u001b[0m \u001b[0mreturn_string\u001b[0m\u001b[0;34m:\u001b[0m\u001b[0;34m\u001b[0m\u001b[0;34m\u001b[0m\u001b[0m\n",
            "\u001b[0;32m/usr/local/lib/python3.7/dist-packages/sklearn/tree/_export.py\u001b[0m in \u001b[0;36mexport\u001b[0;34m(self, decision_tree)\u001b[0m\n\u001b[1;32m    452\u001b[0m                 raise ValueError(\n\u001b[1;32m    453\u001b[0m                     \u001b[0;34m\"Length of feature_names, %d does not match number of features, %d\"\u001b[0m\u001b[0;34m\u001b[0m\u001b[0;34m\u001b[0m\u001b[0m\n\u001b[0;32m--> 454\u001b[0;31m                     \u001b[0;34m%\u001b[0m \u001b[0;34m(\u001b[0m\u001b[0mlen\u001b[0m\u001b[0;34m(\u001b[0m\u001b[0mself\u001b[0m\u001b[0;34m.\u001b[0m\u001b[0mfeature_names\u001b[0m\u001b[0;34m)\u001b[0m\u001b[0;34m,\u001b[0m \u001b[0mdecision_tree\u001b[0m\u001b[0;34m.\u001b[0m\u001b[0mn_features_in_\u001b[0m\u001b[0;34m)\u001b[0m\u001b[0;34m\u001b[0m\u001b[0;34m\u001b[0m\u001b[0m\n\u001b[0m\u001b[1;32m    455\u001b[0m                 )\n\u001b[1;32m    456\u001b[0m         \u001b[0;31m# each part writes to out_file\u001b[0m\u001b[0;34m\u001b[0m\u001b[0;34m\u001b[0m\u001b[0;34m\u001b[0m\u001b[0m\n",
            "\u001b[0;31mValueError\u001b[0m: Length of feature_names, 2 does not match number of features, 21"
          ]
        }
      ],
      "source": [
        "#Método graphviz\n",
        "# Se visualiza usando la funcion creada al inicio \"print_tree\"\n",
        "graph = print_tree(regr, features=['Years', 'Hits'])\n",
        "graph"
      ]
    },
    {
      "cell_type": "markdown",
      "metadata": {
        "hidden": true,
        "id": "jDvEpD6uOLCl"
      },
      "source": [
        "Gráfica (manual) de las regiones"
      ]
    },
    {
      "cell_type": "code",
      "execution_count": null,
      "metadata": {
        "hidden": true,
        "id": "qAJDHwBYOLCl"
      },
      "outputs": [],
      "source": [
        "df.plot('Years', 'Hits', kind='scatter', color='orange', figsize=(7,6))\n",
        "plt.xlim(0,25); plt.ylim(ymin=-5)\n",
        "plt.xticks([1, 4.5, 24]), plt.yticks([1, 117.5, 238])\n",
        "plt.vlines(4.5, ymin=-5, ymax=250), plt.hlines(117.5, xmin=4.5, xmax=25)\n",
        "plt.annotate('R1', xy=(2,117.5), fontsize='xx-large')\n",
        "plt.annotate('R2', xy=(11,60), fontsize='xx-large')\n",
        "plt.annotate('R3', xy=(11,170), fontsize='xx-large');"
      ]
    },
    {
      "cell_type": "markdown",
      "metadata": {
        "heading_collapsed": true,
        "id": "Tc6UbS_aOLCm"
      },
      "source": [
        "## Árboles de clasificación"
      ]
    },
    {
      "cell_type": "code",
      "execution_count": null,
      "metadata": {
        "hidden": true,
        "id": "dfF3LuoMOLCm"
      },
      "outputs": [],
      "source": [
        "# Importando el dataset heart.csv\n",
        "df2 = pd.read_csv('data/heart.csv').drop('Unnamed: 0', axis=1).dropna()\n",
        "df2.info()"
      ]
    },
    {
      "cell_type": "code",
      "execution_count": 45,
      "metadata": {
        "hidden": true,
        "colab": {
          "base_uri": "https://localhost:8080/",
          "height": 300
        },
        "id": "qO519JaeOLCn",
        "outputId": "bc04ba73-0e76-440f-f946-874ed392c727"
      },
      "outputs": [
        {
          "output_type": "execute_result",
          "data": {
            "text/plain": [
              "      hp  hpperlevel     mp  mpperlevel  movespeed  armor  armorperlevel  \\\n",
              "0  650.0         104    0.0         0.0        345     38           4.45   \n",
              "2  646.0          99  339.0        52.0        340     35           5.00   \n",
              "3  652.0         114  263.0        57.5        340     39           5.20   \n",
              "4  640.0         109  375.0        25.0        345     31           4.30   \n",
              "5  653.0         103    0.0         0.0        345     32           4.20   \n",
              "\n",
              "   spellblock  spellblockperlevel  attackrange  ...  hpregenperlevel  mpregen  \\\n",
              "0        32.0                2.05          175  ...             1.00     0.00   \n",
              "2        32.1                2.05          125  ...             0.80     8.15   \n",
              "3        32.0                2.05          175  ...             0.95     6.60   \n",
              "4        32.0                2.05          150  ...             0.85     8.00   \n",
              "5        32.0                2.05          125  ...             0.75     0.00   \n",
              "\n",
              "   mpregenperlevel  crit  critperlevel  attackdamage  attackdamageperlevel  \\\n",
              "0             0.00     0             0          60.0                   5.0   \n",
              "2             0.75     0             0          68.0                   3.5   \n",
              "3             0.35     0             0          64.0                   5.0   \n",
              "4             0.80     0             0          57.0                   3.0   \n",
              "5             0.00     0             0          61.0                   3.5   \n",
              "\n",
              "   attackspeedperlevel  attackspeed  playrate  \n",
              "0                 2.50        0.651     0.097  \n",
              "2                 2.50        0.644     0.076  \n",
              "3                 1.00        0.625     0.087  \n",
              "4                 2.25        0.625     0.132  \n",
              "5                 3.30        0.720     0.019  \n",
              "\n",
              "[5 rows x 21 columns]"
            ],
            "text/html": [
              "\n",
              "  <div id=\"df-b2addb2c-65ab-4fc9-a7ba-3ff69ddd614c\">\n",
              "    <div class=\"colab-df-container\">\n",
              "      <div>\n",
              "<style scoped>\n",
              "    .dataframe tbody tr th:only-of-type {\n",
              "        vertical-align: middle;\n",
              "    }\n",
              "\n",
              "    .dataframe tbody tr th {\n",
              "        vertical-align: top;\n",
              "    }\n",
              "\n",
              "    .dataframe thead th {\n",
              "        text-align: right;\n",
              "    }\n",
              "</style>\n",
              "<table border=\"1\" class=\"dataframe\">\n",
              "  <thead>\n",
              "    <tr style=\"text-align: right;\">\n",
              "      <th></th>\n",
              "      <th>hp</th>\n",
              "      <th>hpperlevel</th>\n",
              "      <th>mp</th>\n",
              "      <th>mpperlevel</th>\n",
              "      <th>movespeed</th>\n",
              "      <th>armor</th>\n",
              "      <th>armorperlevel</th>\n",
              "      <th>spellblock</th>\n",
              "      <th>spellblockperlevel</th>\n",
              "      <th>attackrange</th>\n",
              "      <th>...</th>\n",
              "      <th>hpregenperlevel</th>\n",
              "      <th>mpregen</th>\n",
              "      <th>mpregenperlevel</th>\n",
              "      <th>crit</th>\n",
              "      <th>critperlevel</th>\n",
              "      <th>attackdamage</th>\n",
              "      <th>attackdamageperlevel</th>\n",
              "      <th>attackspeedperlevel</th>\n",
              "      <th>attackspeed</th>\n",
              "      <th>playrate</th>\n",
              "    </tr>\n",
              "  </thead>\n",
              "  <tbody>\n",
              "    <tr>\n",
              "      <th>0</th>\n",
              "      <td>650.0</td>\n",
              "      <td>104</td>\n",
              "      <td>0.0</td>\n",
              "      <td>0.0</td>\n",
              "      <td>345</td>\n",
              "      <td>38</td>\n",
              "      <td>4.45</td>\n",
              "      <td>32.0</td>\n",
              "      <td>2.05</td>\n",
              "      <td>175</td>\n",
              "      <td>...</td>\n",
              "      <td>1.00</td>\n",
              "      <td>0.00</td>\n",
              "      <td>0.00</td>\n",
              "      <td>0</td>\n",
              "      <td>0</td>\n",
              "      <td>60.0</td>\n",
              "      <td>5.0</td>\n",
              "      <td>2.50</td>\n",
              "      <td>0.651</td>\n",
              "      <td>0.097</td>\n",
              "    </tr>\n",
              "    <tr>\n",
              "      <th>2</th>\n",
              "      <td>646.0</td>\n",
              "      <td>99</td>\n",
              "      <td>339.0</td>\n",
              "      <td>52.0</td>\n",
              "      <td>340</td>\n",
              "      <td>35</td>\n",
              "      <td>5.00</td>\n",
              "      <td>32.1</td>\n",
              "      <td>2.05</td>\n",
              "      <td>125</td>\n",
              "      <td>...</td>\n",
              "      <td>0.80</td>\n",
              "      <td>8.15</td>\n",
              "      <td>0.75</td>\n",
              "      <td>0</td>\n",
              "      <td>0</td>\n",
              "      <td>68.0</td>\n",
              "      <td>3.5</td>\n",
              "      <td>2.50</td>\n",
              "      <td>0.644</td>\n",
              "      <td>0.076</td>\n",
              "    </tr>\n",
              "    <tr>\n",
              "      <th>3</th>\n",
              "      <td>652.0</td>\n",
              "      <td>114</td>\n",
              "      <td>263.0</td>\n",
              "      <td>57.5</td>\n",
              "      <td>340</td>\n",
              "      <td>39</td>\n",
              "      <td>5.20</td>\n",
              "      <td>32.0</td>\n",
              "      <td>2.05</td>\n",
              "      <td>175</td>\n",
              "      <td>...</td>\n",
              "      <td>0.95</td>\n",
              "      <td>6.60</td>\n",
              "      <td>0.35</td>\n",
              "      <td>0</td>\n",
              "      <td>0</td>\n",
              "      <td>64.0</td>\n",
              "      <td>5.0</td>\n",
              "      <td>1.00</td>\n",
              "      <td>0.625</td>\n",
              "      <td>0.087</td>\n",
              "    </tr>\n",
              "    <tr>\n",
              "      <th>4</th>\n",
              "      <td>640.0</td>\n",
              "      <td>109</td>\n",
              "      <td>375.0</td>\n",
              "      <td>25.0</td>\n",
              "      <td>345</td>\n",
              "      <td>31</td>\n",
              "      <td>4.30</td>\n",
              "      <td>32.0</td>\n",
              "      <td>2.05</td>\n",
              "      <td>150</td>\n",
              "      <td>...</td>\n",
              "      <td>0.85</td>\n",
              "      <td>8.00</td>\n",
              "      <td>0.80</td>\n",
              "      <td>0</td>\n",
              "      <td>0</td>\n",
              "      <td>57.0</td>\n",
              "      <td>3.0</td>\n",
              "      <td>2.25</td>\n",
              "      <td>0.625</td>\n",
              "      <td>0.132</td>\n",
              "    </tr>\n",
              "    <tr>\n",
              "      <th>5</th>\n",
              "      <td>653.0</td>\n",
              "      <td>103</td>\n",
              "      <td>0.0</td>\n",
              "      <td>0.0</td>\n",
              "      <td>345</td>\n",
              "      <td>32</td>\n",
              "      <td>4.20</td>\n",
              "      <td>32.0</td>\n",
              "      <td>2.05</td>\n",
              "      <td>125</td>\n",
              "      <td>...</td>\n",
              "      <td>0.75</td>\n",
              "      <td>0.00</td>\n",
              "      <td>0.00</td>\n",
              "      <td>0</td>\n",
              "      <td>0</td>\n",
              "      <td>61.0</td>\n",
              "      <td>3.5</td>\n",
              "      <td>3.30</td>\n",
              "      <td>0.720</td>\n",
              "      <td>0.019</td>\n",
              "    </tr>\n",
              "  </tbody>\n",
              "</table>\n",
              "<p>5 rows × 21 columns</p>\n",
              "</div>\n",
              "      <button class=\"colab-df-convert\" onclick=\"convertToInteractive('df-b2addb2c-65ab-4fc9-a7ba-3ff69ddd614c')\"\n",
              "              title=\"Convert this dataframe to an interactive table.\"\n",
              "              style=\"display:none;\">\n",
              "        \n",
              "  <svg xmlns=\"http://www.w3.org/2000/svg\" height=\"24px\"viewBox=\"0 0 24 24\"\n",
              "       width=\"24px\">\n",
              "    <path d=\"M0 0h24v24H0V0z\" fill=\"none\"/>\n",
              "    <path d=\"M18.56 5.44l.94 2.06.94-2.06 2.06-.94-2.06-.94-.94-2.06-.94 2.06-2.06.94zm-11 1L8.5 8.5l.94-2.06 2.06-.94-2.06-.94L8.5 2.5l-.94 2.06-2.06.94zm10 10l.94 2.06.94-2.06 2.06-.94-2.06-.94-.94-2.06-.94 2.06-2.06.94z\"/><path d=\"M17.41 7.96l-1.37-1.37c-.4-.4-.92-.59-1.43-.59-.52 0-1.04.2-1.43.59L10.3 9.45l-7.72 7.72c-.78.78-.78 2.05 0 2.83L4 21.41c.39.39.9.59 1.41.59.51 0 1.02-.2 1.41-.59l7.78-7.78 2.81-2.81c.8-.78.8-2.07 0-2.86zM5.41 20L4 18.59l7.72-7.72 1.47 1.35L5.41 20z\"/>\n",
              "  </svg>\n",
              "      </button>\n",
              "      \n",
              "  <style>\n",
              "    .colab-df-container {\n",
              "      display:flex;\n",
              "      flex-wrap:wrap;\n",
              "      gap: 12px;\n",
              "    }\n",
              "\n",
              "    .colab-df-convert {\n",
              "      background-color: #E8F0FE;\n",
              "      border: none;\n",
              "      border-radius: 50%;\n",
              "      cursor: pointer;\n",
              "      display: none;\n",
              "      fill: #1967D2;\n",
              "      height: 32px;\n",
              "      padding: 0 0 0 0;\n",
              "      width: 32px;\n",
              "    }\n",
              "\n",
              "    .colab-df-convert:hover {\n",
              "      background-color: #E2EBFA;\n",
              "      box-shadow: 0px 1px 2px rgba(60, 64, 67, 0.3), 0px 1px 3px 1px rgba(60, 64, 67, 0.15);\n",
              "      fill: #174EA6;\n",
              "    }\n",
              "\n",
              "    [theme=dark] .colab-df-convert {\n",
              "      background-color: #3B4455;\n",
              "      fill: #D2E3FC;\n",
              "    }\n",
              "\n",
              "    [theme=dark] .colab-df-convert:hover {\n",
              "      background-color: #434B5C;\n",
              "      box-shadow: 0px 1px 3px 1px rgba(0, 0, 0, 0.15);\n",
              "      filter: drop-shadow(0px 1px 2px rgba(0, 0, 0, 0.3));\n",
              "      fill: #FFFFFF;\n",
              "    }\n",
              "  </style>\n",
              "\n",
              "      <script>\n",
              "        const buttonEl =\n",
              "          document.querySelector('#df-b2addb2c-65ab-4fc9-a7ba-3ff69ddd614c button.colab-df-convert');\n",
              "        buttonEl.style.display =\n",
              "          google.colab.kernel.accessAllowed ? 'block' : 'none';\n",
              "\n",
              "        async function convertToInteractive(key) {\n",
              "          const element = document.querySelector('#df-b2addb2c-65ab-4fc9-a7ba-3ff69ddd614c');\n",
              "          const dataTable =\n",
              "            await google.colab.kernel.invokeFunction('convertToInteractive',\n",
              "                                                     [key], {});\n",
              "          if (!dataTable) return;\n",
              "\n",
              "          const docLinkHtml = 'Like what you see? Visit the ' +\n",
              "            '<a target=\"_blank\" href=https://colab.research.google.com/notebooks/data_table.ipynb>data table notebook</a>'\n",
              "            + ' to learn more about interactive tables.';\n",
              "          element.innerHTML = '';\n",
              "          dataTable['output_type'] = 'display_data';\n",
              "          await google.colab.output.renderOutput(dataTable, element);\n",
              "          const docLink = document.createElement('div');\n",
              "          docLink.innerHTML = docLinkHtml;\n",
              "          element.appendChild(docLink);\n",
              "        }\n",
              "      </script>\n",
              "    </div>\n",
              "  </div>\n",
              "  "
            ]
          },
          "metadata": {},
          "execution_count": 45
        }
      ],
      "source": [
        "df.head()"
      ]
    },
    {
      "cell_type": "code",
      "execution_count": null,
      "metadata": {
        "hidden": true,
        "id": "5M7GLmduOLCn"
      },
      "outputs": [],
      "source": [
        "# Se codifican las variables categoricas utilizando\n",
        "# la funcion \"factorize\" de Pandas\n",
        "df2['ChestPain'] = pd.factorize(df2['ChestPain'])[0]\n",
        "df2['Thal'] = pd.factorize(df2['Thal'])[0]"
      ]
    },
    {
      "cell_type": "code",
      "execution_count": 46,
      "metadata": {
        "hidden": true,
        "id": "Iwve5rE7OLCn"
      },
      "outputs": [],
      "source": [
        "X2 = df # Solo descriptores\n",
        "y2 = pd.factorize(y)[0] # Variable de salida codificada"
      ]
    },
    {
      "cell_type": "markdown",
      "metadata": {
        "hidden": true,
        "id": "jt9A34FSOLCo"
      },
      "source": [
        "Se instancia el objeto (estimador y predictor) y se ajusta"
      ]
    },
    {
      "cell_type": "code",
      "execution_count": 47,
      "metadata": {
        "hidden": true,
        "colab": {
          "base_uri": "https://localhost:8080/"
        },
        "id": "7IBf50KbOLCo",
        "outputId": "ef6b9554-622d-4b53-97f4-b71f3e1d70ad"
      },
      "outputs": [
        {
          "output_type": "execute_result",
          "data": {
            "text/plain": [
              "DecisionTreeClassifier(max_features=3, max_leaf_nodes=6)"
            ]
          },
          "metadata": {},
          "execution_count": 47
        }
      ],
      "source": [
        "clf = DecisionTreeClassifier(max_depth=None, max_leaf_nodes=6, max_features=3)\n",
        "clf.fit(X2,y2)"
      ]
    },
    {
      "cell_type": "code",
      "execution_count": 48,
      "metadata": {
        "hidden": true,
        "colab": {
          "base_uri": "https://localhost:8080/"
        },
        "id": "cEiapciROLCp",
        "outputId": "42e8c8b4-2af7-44a8-a472-4a3c39f9d0ef"
      },
      "outputs": [
        {
          "output_type": "execute_result",
          "data": {
            "text/plain": [
              "0.7478991596638656"
            ]
          },
          "metadata": {},
          "execution_count": 48
        }
      ],
      "source": [
        "#Acuraccy medio para el conjunto entrenado\n",
        "clf.score(X2,y2)\n"
      ]
    },
    {
      "cell_type": "markdown",
      "metadata": {
        "hidden": true,
        "id": "Et_jBshQOLCp"
      },
      "source": [
        "Visualización del árbol de clasificación"
      ]
    },
    {
      "cell_type": "code",
      "execution_count": 49,
      "metadata": {
        "hidden": true,
        "colab": {
          "base_uri": "https://localhost:8080/",
          "height": 599
        },
        "id": "yqTDVEyJOLCp",
        "outputId": "473b2ac1-a7bb-4528-fc45-e1f5c3e0440c"
      },
      "outputs": [
        {
          "output_type": "execute_result",
          "data": {
            "text/plain": [
              "<graphviz.files.Source at 0x7f1cc6c7e290>"
            ],
            "image/svg+xml": "<?xml version=\"1.0\" encoding=\"UTF-8\" standalone=\"no\"?>\n<!DOCTYPE svg PUBLIC \"-//W3C//DTD SVG 1.1//EN\"\n \"http://www.w3.org/Graphics/SVG/1.1/DTD/svg11.dtd\">\n<!-- Generated by graphviz version 2.40.1 (20161225.0304)\n -->\n<!-- Title: Tree Pages: 1 -->\n<svg width=\"603pt\" height=\"433pt\"\n viewBox=\"0.00 0.00 602.50 433.00\" xmlns=\"http://www.w3.org/2000/svg\" xmlns:xlink=\"http://www.w3.org/1999/xlink\">\n<g id=\"graph0\" class=\"graph\" transform=\"scale(1 1) rotate(0) translate(4 429)\">\n<title>Tree</title>\n<polygon fill=\"#ffffff\" stroke=\"transparent\" points=\"-4,4 -4,-429 598.5,-429 598.5,4 -4,4\"/>\n<!-- 0 -->\n<g id=\"node1\" class=\"node\">\n<title>0</title>\n<polygon fill=\"#e9f4fc\" stroke=\"#000000\" points=\"409.5,-425 280.5,-425 280.5,-342 409.5,-342 409.5,-425\"/>\n<text text-anchor=\"middle\" x=\"345\" y=\"-409.8\" font-family=\"Helvetica,sans-Serif\" font-size=\"14.00\" fill=\"#000000\">playrate &lt;= 0.037</text>\n<text text-anchor=\"middle\" x=\"345\" y=\"-394.8\" font-family=\"Helvetica,sans-Serif\" font-size=\"14.00\" fill=\"#000000\">gini = 0.498</text>\n<text text-anchor=\"middle\" x=\"345\" y=\"-379.8\" font-family=\"Helvetica,sans-Serif\" font-size=\"14.00\" fill=\"#000000\">samples = 119</text>\n<text text-anchor=\"middle\" x=\"345\" y=\"-364.8\" font-family=\"Helvetica,sans-Serif\" font-size=\"14.00\" fill=\"#000000\">value = [56, 63]</text>\n<text text-anchor=\"middle\" x=\"345\" y=\"-349.8\" font-family=\"Helvetica,sans-Serif\" font-size=\"14.00\" fill=\"#000000\">class = Yes</text>\n</g>\n<!-- 1 -->\n<g id=\"node2\" class=\"node\">\n<title>1</title>\n<polygon fill=\"#f2be99\" stroke=\"#000000\" points=\"341.5,-306 184.5,-306 184.5,-223 341.5,-223 341.5,-306\"/>\n<text text-anchor=\"middle\" x=\"263\" y=\"-290.8\" font-family=\"Helvetica,sans-Serif\" font-size=\"14.00\" fill=\"#000000\">attackspeed &lt;= 0.641</text>\n<text text-anchor=\"middle\" x=\"263\" y=\"-275.8\" font-family=\"Helvetica,sans-Serif\" font-size=\"14.00\" fill=\"#000000\">gini = 0.44</text>\n<text text-anchor=\"middle\" x=\"263\" y=\"-260.8\" font-family=\"Helvetica,sans-Serif\" font-size=\"14.00\" fill=\"#000000\">samples = 49</text>\n<text text-anchor=\"middle\" x=\"263\" y=\"-245.8\" font-family=\"Helvetica,sans-Serif\" font-size=\"14.00\" fill=\"#000000\">value = [33, 16]</text>\n<text text-anchor=\"middle\" x=\"263\" y=\"-230.8\" font-family=\"Helvetica,sans-Serif\" font-size=\"14.00\" fill=\"#000000\">class = No</text>\n</g>\n<!-- 0&#45;&gt;1 -->\n<g id=\"edge1\" class=\"edge\">\n<title>0&#45;&gt;1</title>\n<path fill=\"none\" stroke=\"#000000\" d=\"M316.3204,-341.8796C310.2385,-333.0534 303.7578,-323.6485 297.4859,-314.5466\"/>\n<polygon fill=\"#000000\" stroke=\"#000000\" points=\"300.3582,-312.5465 291.802,-306.2981 294.5941,-316.5184 300.3582,-312.5465\"/>\n<text text-anchor=\"middle\" x=\"287.2761\" y=\"-327.185\" font-family=\"Helvetica,sans-Serif\" font-size=\"14.00\" fill=\"#000000\">True</text>\n</g>\n<!-- 2 -->\n<g id=\"node7\" class=\"node\">\n<title>2</title>\n<polygon fill=\"#9acdf2\" stroke=\"#000000\" points=\"494.5,-306 359.5,-306 359.5,-223 494.5,-223 494.5,-306\"/>\n<text text-anchor=\"middle\" x=\"427\" y=\"-290.8\" font-family=\"Helvetica,sans-Serif\" font-size=\"14.00\" fill=\"#000000\">mpregen &lt;= 12.25</text>\n<text text-anchor=\"middle\" x=\"427\" y=\"-275.8\" font-family=\"Helvetica,sans-Serif\" font-size=\"14.00\" fill=\"#000000\">gini = 0.441</text>\n<text text-anchor=\"middle\" x=\"427\" y=\"-260.8\" font-family=\"Helvetica,sans-Serif\" font-size=\"14.00\" fill=\"#000000\">samples = 70</text>\n<text text-anchor=\"middle\" x=\"427\" y=\"-245.8\" font-family=\"Helvetica,sans-Serif\" font-size=\"14.00\" fill=\"#000000\">value = [23, 47]</text>\n<text text-anchor=\"middle\" x=\"427\" y=\"-230.8\" font-family=\"Helvetica,sans-Serif\" font-size=\"14.00\" fill=\"#000000\">class = Yes</text>\n</g>\n<!-- 0&#45;&gt;2 -->\n<g id=\"edge6\" class=\"edge\">\n<title>0&#45;&gt;2</title>\n<path fill=\"none\" stroke=\"#000000\" d=\"M373.6796,-341.8796C379.7615,-333.0534 386.2422,-323.6485 392.5141,-314.5466\"/>\n<polygon fill=\"#000000\" stroke=\"#000000\" points=\"395.4059,-316.5184 398.198,-306.2981 389.6418,-312.5465 395.4059,-316.5184\"/>\n<text text-anchor=\"middle\" x=\"402.7239\" y=\"-327.185\" font-family=\"Helvetica,sans-Serif\" font-size=\"14.00\" fill=\"#000000\">False</text>\n</g>\n<!-- 3 -->\n<g id=\"node3\" class=\"node\">\n<title>3</title>\n<polygon fill=\"#fbede3\" stroke=\"#000000\" points=\"200,-187 0,-187 0,-104 200,-104 200,-187\"/>\n<text text-anchor=\"middle\" x=\"100\" y=\"-171.8\" font-family=\"Helvetica,sans-Serif\" font-size=\"14.00\" fill=\"#000000\">attackspeedperlevel &lt;= 3.49</text>\n<text text-anchor=\"middle\" x=\"100\" y=\"-156.8\" font-family=\"Helvetica,sans-Serif\" font-size=\"14.00\" fill=\"#000000\">gini = 0.497</text>\n<text text-anchor=\"middle\" x=\"100\" y=\"-141.8\" font-family=\"Helvetica,sans-Serif\" font-size=\"14.00\" fill=\"#000000\">samples = 26</text>\n<text text-anchor=\"middle\" x=\"100\" y=\"-126.8\" font-family=\"Helvetica,sans-Serif\" font-size=\"14.00\" fill=\"#000000\">value = [14, 12]</text>\n<text text-anchor=\"middle\" x=\"100\" y=\"-111.8\" font-family=\"Helvetica,sans-Serif\" font-size=\"14.00\" fill=\"#000000\">class = No</text>\n</g>\n<!-- 1&#45;&gt;3 -->\n<g id=\"edge2\" class=\"edge\">\n<title>1&#45;&gt;3</title>\n<path fill=\"none\" stroke=\"#000000\" d=\"M205.9905,-222.8796C192.8379,-213.2774 178.7472,-202.9903 165.2732,-193.1534\"/>\n<polygon fill=\"#000000\" stroke=\"#000000\" points=\"167.1177,-190.1666 156.9773,-187.0969 162.9902,-195.8202 167.1177,-190.1666\"/>\n</g>\n<!-- 4 -->\n<g id=\"node6\" class=\"node\">\n<title>4</title>\n<polygon fill=\"#ea9c63\" stroke=\"#000000\" points=\"325.5,-179.5 218.5,-179.5 218.5,-111.5 325.5,-111.5 325.5,-179.5\"/>\n<text text-anchor=\"middle\" x=\"272\" y=\"-164.3\" font-family=\"Helvetica,sans-Serif\" font-size=\"14.00\" fill=\"#000000\">gini = 0.287</text>\n<text text-anchor=\"middle\" x=\"272\" y=\"-149.3\" font-family=\"Helvetica,sans-Serif\" font-size=\"14.00\" fill=\"#000000\">samples = 23</text>\n<text text-anchor=\"middle\" x=\"272\" y=\"-134.3\" font-family=\"Helvetica,sans-Serif\" font-size=\"14.00\" fill=\"#000000\">value = [19, 4]</text>\n<text text-anchor=\"middle\" x=\"272\" y=\"-119.3\" font-family=\"Helvetica,sans-Serif\" font-size=\"14.00\" fill=\"#000000\">class = No</text>\n</g>\n<!-- 1&#45;&gt;4 -->\n<g id=\"edge5\" class=\"edge\">\n<title>1&#45;&gt;4</title>\n<path fill=\"none\" stroke=\"#000000\" d=\"M266.1478,-222.8796C266.9545,-212.2134 267.8251,-200.7021 268.6419,-189.9015\"/>\n<polygon fill=\"#000000\" stroke=\"#000000\" points=\"272.1405,-190.0504 269.4048,-179.8149 265.1605,-189.5225 272.1405,-190.0504\"/>\n</g>\n<!-- 5 -->\n<g id=\"node4\" class=\"node\">\n<title>5</title>\n<polygon fill=\"#f6d2b8\" stroke=\"#000000\" points=\"118.5,-68 11.5,-68 11.5,0 118.5,0 118.5,-68\"/>\n<text text-anchor=\"middle\" x=\"65\" y=\"-52.8\" font-family=\"Helvetica,sans-Serif\" font-size=\"14.00\" fill=\"#000000\">gini = 0.476</text>\n<text text-anchor=\"middle\" x=\"65\" y=\"-37.8\" font-family=\"Helvetica,sans-Serif\" font-size=\"14.00\" fill=\"#000000\">samples = 23</text>\n<text text-anchor=\"middle\" x=\"65\" y=\"-22.8\" font-family=\"Helvetica,sans-Serif\" font-size=\"14.00\" fill=\"#000000\">value = [14, 9]</text>\n<text text-anchor=\"middle\" x=\"65\" y=\"-7.8\" font-family=\"Helvetica,sans-Serif\" font-size=\"14.00\" fill=\"#000000\">class = No</text>\n</g>\n<!-- 3&#45;&gt;5 -->\n<g id=\"edge3\" class=\"edge\">\n<title>3&#45;&gt;5</title>\n<path fill=\"none\" stroke=\"#000000\" d=\"M86.9673,-103.9815C84.3131,-95.5261 81.512,-86.6026 78.8312,-78.0623\"/>\n<polygon fill=\"#000000\" stroke=\"#000000\" points=\"82.0898,-76.7564 75.7554,-68.2637 75.4111,-78.8529 82.0898,-76.7564\"/>\n</g>\n<!-- 6 -->\n<g id=\"node5\" class=\"node\">\n<title>6</title>\n<polygon fill=\"#399de5\" stroke=\"#000000\" points=\"235.5,-68 136.5,-68 136.5,0 235.5,0 235.5,-68\"/>\n<text text-anchor=\"middle\" x=\"186\" y=\"-52.8\" font-family=\"Helvetica,sans-Serif\" font-size=\"14.00\" fill=\"#000000\">gini = 0.0</text>\n<text text-anchor=\"middle\" x=\"186\" y=\"-37.8\" font-family=\"Helvetica,sans-Serif\" font-size=\"14.00\" fill=\"#000000\">samples = 3</text>\n<text text-anchor=\"middle\" x=\"186\" y=\"-22.8\" font-family=\"Helvetica,sans-Serif\" font-size=\"14.00\" fill=\"#000000\">value = [0, 3]</text>\n<text text-anchor=\"middle\" x=\"186\" y=\"-7.8\" font-family=\"Helvetica,sans-Serif\" font-size=\"14.00\" fill=\"#000000\">class = Yes</text>\n</g>\n<!-- 3&#45;&gt;6 -->\n<g id=\"edge4\" class=\"edge\">\n<title>3&#45;&gt;6</title>\n<path fill=\"none\" stroke=\"#000000\" d=\"M132.0232,-103.9815C138.9702,-94.9747 146.3269,-85.4367 153.2996,-76.3965\"/>\n<polygon fill=\"#000000\" stroke=\"#000000\" points=\"156.2364,-78.3196 159.5724,-68.2637 150.6936,-74.0444 156.2364,-78.3196\"/>\n</g>\n<!-- 7 -->\n<g id=\"node8\" class=\"node\">\n<title>7</title>\n<polygon fill=\"#91c9f1\" stroke=\"#000000\" points=\"477,-187 361,-187 361,-104 477,-104 477,-187\"/>\n<text text-anchor=\"middle\" x=\"419\" y=\"-171.8\" font-family=\"Helvetica,sans-Serif\" font-size=\"14.00\" fill=\"#000000\">mp &lt;= 475.0</text>\n<text text-anchor=\"middle\" x=\"419\" y=\"-156.8\" font-family=\"Helvetica,sans-Serif\" font-size=\"14.00\" fill=\"#000000\">gini = 0.427</text>\n<text text-anchor=\"middle\" x=\"419\" y=\"-141.8\" font-family=\"Helvetica,sans-Serif\" font-size=\"14.00\" fill=\"#000000\">samples = 68</text>\n<text text-anchor=\"middle\" x=\"419\" y=\"-126.8\" font-family=\"Helvetica,sans-Serif\" font-size=\"14.00\" fill=\"#000000\">value = [21, 47]</text>\n<text text-anchor=\"middle\" x=\"419\" y=\"-111.8\" font-family=\"Helvetica,sans-Serif\" font-size=\"14.00\" fill=\"#000000\">class = Yes</text>\n</g>\n<!-- 2&#45;&gt;7 -->\n<g id=\"edge7\" class=\"edge\">\n<title>2&#45;&gt;7</title>\n<path fill=\"none\" stroke=\"#000000\" d=\"M424.202,-222.8796C423.651,-214.6838 423.0665,-205.9891 422.4959,-197.5013\"/>\n<polygon fill=\"#000000\" stroke=\"#000000\" points=\"425.9729,-197.0408 421.81,-187.2981 418.9887,-197.5103 425.9729,-197.0408\"/>\n</g>\n<!-- 8 -->\n<g id=\"node11\" class=\"node\">\n<title>8</title>\n<polygon fill=\"#e58139\" stroke=\"#000000\" points=\"594.5,-179.5 495.5,-179.5 495.5,-111.5 594.5,-111.5 594.5,-179.5\"/>\n<text text-anchor=\"middle\" x=\"545\" y=\"-164.3\" font-family=\"Helvetica,sans-Serif\" font-size=\"14.00\" fill=\"#000000\">gini = 0.0</text>\n<text text-anchor=\"middle\" x=\"545\" y=\"-149.3\" font-family=\"Helvetica,sans-Serif\" font-size=\"14.00\" fill=\"#000000\">samples = 2</text>\n<text text-anchor=\"middle\" x=\"545\" y=\"-134.3\" font-family=\"Helvetica,sans-Serif\" font-size=\"14.00\" fill=\"#000000\">value = [2, 0]</text>\n<text text-anchor=\"middle\" x=\"545\" y=\"-119.3\" font-family=\"Helvetica,sans-Serif\" font-size=\"14.00\" fill=\"#000000\">class = No</text>\n</g>\n<!-- 2&#45;&gt;8 -->\n<g id=\"edge10\" class=\"edge\">\n<title>2&#45;&gt;8</title>\n<path fill=\"none\" stroke=\"#000000\" d=\"M468.2707,-222.8796C479.7195,-211.3337 492.1503,-198.7976 503.6062,-187.2446\"/>\n<polygon fill=\"#000000\" stroke=\"#000000\" points=\"506.4175,-189.3802 510.9734,-179.8149 501.4469,-184.4514 506.4175,-189.3802\"/>\n</g>\n<!-- 9 -->\n<g id=\"node9\" class=\"node\">\n<title>9</title>\n<polygon fill=\"#81c0ee\" stroke=\"#000000\" points=\"415,-68 299,-68 299,0 415,0 415,-68\"/>\n<text text-anchor=\"middle\" x=\"357\" y=\"-52.8\" font-family=\"Helvetica,sans-Serif\" font-size=\"14.00\" fill=\"#000000\">gini = 0.39</text>\n<text text-anchor=\"middle\" x=\"357\" y=\"-37.8\" font-family=\"Helvetica,sans-Serif\" font-size=\"14.00\" fill=\"#000000\">samples = 64</text>\n<text text-anchor=\"middle\" x=\"357\" y=\"-22.8\" font-family=\"Helvetica,sans-Serif\" font-size=\"14.00\" fill=\"#000000\">value = [17, 47]</text>\n<text text-anchor=\"middle\" x=\"357\" y=\"-7.8\" font-family=\"Helvetica,sans-Serif\" font-size=\"14.00\" fill=\"#000000\">class = Yes</text>\n</g>\n<!-- 7&#45;&gt;9 -->\n<g id=\"edge8\" class=\"edge\">\n<title>7&#45;&gt;9</title>\n<path fill=\"none\" stroke=\"#000000\" d=\"M395.9135,-103.9815C391.0585,-95.2504 385.926,-86.0202 381.0371,-77.2281\"/>\n<polygon fill=\"#000000\" stroke=\"#000000\" points=\"383.9712,-75.3025 376.0524,-68.2637 377.8533,-78.7043 383.9712,-75.3025\"/>\n</g>\n<!-- 10 -->\n<g id=\"node10\" class=\"node\">\n<title>10</title>\n<polygon fill=\"#e58139\" stroke=\"#000000\" points=\"532.5,-68 433.5,-68 433.5,0 532.5,0 532.5,-68\"/>\n<text text-anchor=\"middle\" x=\"483\" y=\"-52.8\" font-family=\"Helvetica,sans-Serif\" font-size=\"14.00\" fill=\"#000000\">gini = 0.0</text>\n<text text-anchor=\"middle\" x=\"483\" y=\"-37.8\" font-family=\"Helvetica,sans-Serif\" font-size=\"14.00\" fill=\"#000000\">samples = 4</text>\n<text text-anchor=\"middle\" x=\"483\" y=\"-22.8\" font-family=\"Helvetica,sans-Serif\" font-size=\"14.00\" fill=\"#000000\">value = [4, 0]</text>\n<text text-anchor=\"middle\" x=\"483\" y=\"-7.8\" font-family=\"Helvetica,sans-Serif\" font-size=\"14.00\" fill=\"#000000\">class = No</text>\n</g>\n<!-- 7&#45;&gt;10 -->\n<g id=\"edge9\" class=\"edge\">\n<title>7&#45;&gt;10</title>\n<path fill=\"none\" stroke=\"#000000\" d=\"M442.8312,-103.9815C447.8956,-95.1585 453.2525,-85.8258 458.3468,-76.9506\"/>\n<polygon fill=\"#000000\" stroke=\"#000000\" points=\"461.3903,-78.6789 463.333,-68.2637 455.3193,-75.1942 461.3903,-78.6789\"/>\n</g>\n</g>\n</svg>\n"
          },
          "metadata": {},
          "execution_count": 49
        }
      ],
      "source": [
        "print_tree(clf, features=X2.columns, class_names=['No', 'Yes'])"
      ]
    },
    {
      "cell_type": "markdown",
      "metadata": {
        "heading_collapsed": true,
        "id": "lLLbNs2TOLCp"
      },
      "source": [
        "## Bagging and random forest"
      ]
    },
    {
      "cell_type": "markdown",
      "metadata": {
        "hidden": true,
        "id": "mRrhYrEmOLCq"
      },
      "source": [
        "### Bagging tree classifier"
      ]
    },
    {
      "cell_type": "code",
      "execution_count": 50,
      "metadata": {
        "hidden": true,
        "colab": {
          "base_uri": "https://localhost:8080/"
        },
        "id": "4hyDG0joOLCq",
        "outputId": "bfd20dd5-1ffe-4564-d6d8-89cc7a354798"
      },
      "outputs": [
        {
          "output_type": "execute_result",
          "data": {
            "text/plain": [
              "0.957983193277311"
            ]
          },
          "metadata": {},
          "execution_count": 50
        }
      ],
      "source": [
        "bag_clf = BaggingClassifier(max_features=3)\n",
        "bag_clf.fit(X2,y2)\n",
        "bag_clf.score(X2,y2) # Mean accuracy"
      ]
    },
    {
      "cell_type": "markdown",
      "metadata": {
        "hidden": true,
        "id": "r7mcK8vJOLCq"
      },
      "source": [
        "Ahora se realizará el mismo proceso pero con validación cruzada (tiene mucha mayor validez real)"
      ]
    },
    {
      "cell_type": "code",
      "execution_count": 51,
      "metadata": {
        "hidden": true,
        "colab": {
          "base_uri": "https://localhost:8080/"
        },
        "id": "l-iqpcCPOLCq",
        "outputId": "f4dca7bd-ca62-47e9-a3e5-8e27508fc5d0"
      },
      "outputs": [
        {
          "output_type": "stream",
          "name": "stderr",
          "text": [
            "[Parallel(n_jobs=1)]: Using backend SequentialBackend with 1 concurrent workers.\n",
            "[Parallel(n_jobs=1)]: Done   5 out of   5 | elapsed:    0.1s finished\n"
          ]
        },
        {
          "output_type": "execute_result",
          "data": {
            "text/plain": [
              "0.5213768115942028"
            ]
          },
          "metadata": {},
          "execution_count": 51
        }
      ],
      "source": [
        "bag_clf = BaggingClassifier(max_features=3)\n",
        "cross_val_score(bag_clf, X2,y2, cv=5, verbose=1).mean()"
      ]
    },
    {
      "cell_type": "markdown",
      "metadata": {
        "hidden": true,
        "id": "qRjWzj-VOLCr"
      },
      "source": [
        "El accuracy medio no es tan excelente, pero es mucho más real (cuidado, en principio, se debe separar un Test set al inicio, que no se ha hecho)."
      ]
    },
    {
      "cell_type": "markdown",
      "metadata": {
        "hidden": true,
        "id": "dn3XceMmOLCr"
      },
      "source": [
        "### Bagging tree regressor"
      ]
    },
    {
      "cell_type": "code",
      "execution_count": null,
      "metadata": {
        "hidden": true,
        "id": "xkav9VwmOLCr"
      },
      "outputs": [],
      "source": [
        "bag_reg = BaggingRegressor()\n",
        "bag_reg.fit(X,y)\n",
        "bag_reg.score(X,y) # R^2"
      ]
    },
    {
      "cell_type": "code",
      "execution_count": null,
      "metadata": {
        "hidden": true,
        "id": "DPLV4bCoOLCr"
      },
      "outputs": [],
      "source": [
        "cross_val_score(BaggingRegressor(),X,y,cv=5,verbose=1).mean()"
      ]
    },
    {
      "cell_type": "markdown",
      "metadata": {
        "hidden": true,
        "id": "1jp-YNfvOLCr"
      },
      "source": [
        "¡Qué diferencia! el R^2 no es tan bueno, esto quiere decir que sin hacer validación cruzada hay un sobreajuste grande."
      ]
    },
    {
      "cell_type": "markdown",
      "metadata": {
        "hidden": true,
        "id": "xVwdRIsAOLCs"
      },
      "source": [
        "### Random forest classifier"
      ]
    },
    {
      "cell_type": "code",
      "execution_count": 52,
      "metadata": {
        "hidden": true,
        "colab": {
          "base_uri": "https://localhost:8080/"
        },
        "id": "PQLZVWzFOLCs",
        "outputId": "bbebd10d-028f-48d8-a331-7636bf48e145"
      },
      "outputs": [
        {
          "output_type": "execute_result",
          "data": {
            "text/plain": [
              "1.0"
            ]
          },
          "metadata": {},
          "execution_count": 52
        }
      ],
      "source": [
        "RF_clf = RandomForestClassifier()\n",
        "RF_clf.fit(X2,y2)\n",
        "RF_clf.score(X2,y2)"
      ]
    },
    {
      "cell_type": "code",
      "execution_count": 53,
      "metadata": {
        "hidden": true,
        "colab": {
          "base_uri": "https://localhost:8080/"
        },
        "id": "TKJJL_5VOLCs",
        "outputId": "70c503c0-76b4-421e-fd70-2c6531c26e22"
      },
      "outputs": [
        {
          "output_type": "stream",
          "name": "stderr",
          "text": [
            "[Parallel(n_jobs=1)]: Using backend SequentialBackend with 1 concurrent workers.\n",
            "[Parallel(n_jobs=1)]: Done   5 out of   5 | elapsed:    0.8s finished\n"
          ]
        },
        {
          "output_type": "execute_result",
          "data": {
            "text/plain": [
              "0.5043478260869565"
            ]
          },
          "metadata": {},
          "execution_count": 53
        }
      ],
      "source": [
        "cross_val_score(RandomForestClassifier(random_state=42),X2,y2,cv=5,verbose=1).mean()"
      ]
    },
    {
      "cell_type": "markdown",
      "metadata": {
        "hidden": true,
        "id": "BZe8zmEOOLCs"
      },
      "source": [
        "### Random forest regressor"
      ]
    },
    {
      "cell_type": "code",
      "execution_count": 54,
      "metadata": {
        "hidden": true,
        "colab": {
          "base_uri": "https://localhost:8080/"
        },
        "id": "oQxLMnBcOLCs",
        "outputId": "4c2b4f48-49f6-44d8-aee9-ae27cfaab790"
      },
      "outputs": [
        {
          "output_type": "execute_result",
          "data": {
            "text/plain": [
              "0.8491013888888889"
            ]
          },
          "metadata": {},
          "execution_count": 54
        }
      ],
      "source": [
        "RF_reg = RandomForestRegressor(random_state=42)\n",
        "RF_reg.fit(X,y)\n",
        "RF_reg.score(X,y)"
      ]
    },
    {
      "cell_type": "code",
      "execution_count": 55,
      "metadata": {
        "hidden": true,
        "colab": {
          "base_uri": "https://localhost:8080/"
        },
        "id": "Fgs_FUhEOLCt",
        "outputId": "6d8304d6-ea3b-49eb-f92f-e46abec02e86"
      },
      "outputs": [
        {
          "output_type": "execute_result",
          "data": {
            "text/plain": [
              "array([0.093275  , 0.04994788, 0.07571917, 0.04868999, 0.03412328,\n",
              "       0.03476383, 0.05139611, 0.01405146, 0.00482597, 0.01934173,\n",
              "       0.06128809, 0.02864439, 0.05269943, 0.02799968, 0.        ,\n",
              "       0.        , 0.04995275, 0.06807256, 0.05416219, 0.04960441,\n",
              "       0.18144209])"
            ]
          },
          "metadata": {},
          "execution_count": 55
        }
      ],
      "source": [
        "RF_reg.feature_importances_"
      ]
    },
    {
      "cell_type": "code",
      "execution_count": 57,
      "metadata": {
        "hidden": true,
        "colab": {
          "base_uri": "https://localhost:8080/"
        },
        "id": "wOYbKbSbOLCt",
        "outputId": "ab6c8173-4484-42a3-abd0-ba1aa6e53b7c"
      },
      "outputs": [
        {
          "output_type": "stream",
          "name": "stderr",
          "text": [
            "[Parallel(n_jobs=1)]: Using backend SequentialBackend with 1 concurrent workers.\n",
            "[Parallel(n_jobs=1)]: Done  50 out of  50 | elapsed:    8.3s finished\n"
          ]
        },
        {
          "output_type": "execute_result",
          "data": {
            "text/plain": [
              "-0.18981599999999996"
            ]
          },
          "metadata": {},
          "execution_count": 57
        }
      ],
      "source": [
        "model_rf = RandomForestRegressor(random_state=42)\n",
        "cross_val_score(model_rf,X, y, cv=50, verbose=1).mean()"
      ]
    },
    {
      "cell_type": "markdown",
      "metadata": {
        "heading_collapsed": true,
        "id": "z9m0c7MEOLCt"
      },
      "source": [
        "## Boosting\n",
        "### Gradient boosting classifier"
      ]
    },
    {
      "cell_type": "code",
      "execution_count": null,
      "metadata": {
        "hidden": true,
        "id": "JEBovPqVOLCt"
      },
      "outputs": [],
      "source": [
        "GBC_clf = GradientBoostingClassifier(learning_rate=0.1)\n",
        "GBC_clf.fit(X2,y2)\n",
        "GBC_clf.score(X2,y2)"
      ]
    },
    {
      "cell_type": "code",
      "execution_count": null,
      "metadata": {
        "hidden": true,
        "scrolled": true,
        "id": "9LKDhXlNOLCu"
      },
      "outputs": [],
      "source": [
        "GBC_clf.feature_importances_"
      ]
    },
    {
      "cell_type": "code",
      "execution_count": null,
      "metadata": {
        "hidden": true,
        "id": "993yGQDiOLCu"
      },
      "outputs": [],
      "source": [
        "cross_val_score(GradientBoostingClassifier(learning_rate=0.1)\n",
        ", X2,y2, cv=5, verbose=1).mean()"
      ]
    },
    {
      "cell_type": "markdown",
      "metadata": {
        "hidden": true,
        "id": "dsbMan_mOLCu"
      },
      "source": [
        "Ha mejorado el accuracy"
      ]
    },
    {
      "cell_type": "markdown",
      "metadata": {
        "hidden": true,
        "id": "m9TzU5IdOLCu"
      },
      "source": [
        "### Gradient boosting regressor"
      ]
    },
    {
      "cell_type": "code",
      "execution_count": null,
      "metadata": {
        "hidden": true,
        "id": "Gb8yrzDUOLCu"
      },
      "outputs": [],
      "source": [
        "GBR_reg = GradientBoostingRegressor(learning_rate=0.1)\n",
        "GBR_reg.fit(X,y)\n",
        "GBR_reg.score(X,y)"
      ]
    },
    {
      "cell_type": "code",
      "execution_count": null,
      "metadata": {
        "hidden": true,
        "id": "cq6SbbzmOLCu"
      },
      "outputs": [],
      "source": [
        "GBR_reg = GradientBoostingRegressor(learning_rate=0.1)\n",
        "cross_val_score(GBR_reg, X, y, cv=10, verbose=1).mean()"
      ]
    },
    {
      "cell_type": "markdown",
      "metadata": {
        "heading_collapsed": true,
        "id": "zF-uHT2WOLCu"
      },
      "source": [
        "## Variable importance"
      ]
    },
    {
      "cell_type": "code",
      "execution_count": null,
      "metadata": {
        "hidden": true,
        "id": "hVbcMn5cOLCv"
      },
      "outputs": [],
      "source": [
        "# Crea una Series de Panda con el atributo de features_importances_\n",
        "# y adhiere los nombres de las features como indice\n",
        "best_features = pd.Series(GBC_clf.feature_importances_, index=df2.drop('AHD', axis=1).columns)\n",
        "best_features.sort_values(ascending=False) # Ordena los valores de forma descendente"
      ]
    },
    {
      "cell_type": "code",
      "execution_count": null,
      "metadata": {
        "hidden": true,
        "id": "dCL13oJ3OLCv"
      },
      "outputs": [],
      "source": [
        "best_features.plot(kind='bar')"
      ]
    },
    {
      "cell_type": "markdown",
      "metadata": {
        "heading_collapsed": true,
        "id": "czrGihAxOLCv"
      },
      "source": [
        "## XGBoost\n",
        "`XGBoost` es una librería que funciona de forma independiente a scikit-learn, pero que se puede integrar fácilmente a su API, mediante los estimadores `XGBClassifier` y `XGBRegressor`. \n",
        "A continuación se muestra ejemplos con los dos datasets trabajados anteriormente."
      ]
    },
    {
      "cell_type": "code",
      "execution_count": null,
      "metadata": {
        "hidden": true,
        "id": "LATat8TkOLCv"
      },
      "outputs": [],
      "source": [
        "# from xgboost import XGBClassifier\n",
        "\n",
        "xgb_cl = XGBClassifier(learning_rate=0.1, max_depth=2)\n",
        "\n",
        "# Validacion cruzada de 5 folds, mide el Accuracy y se ha colocado\n",
        "# verbose=1 para mostrar informacion sobre el proceso.\n",
        "cross_val_score(xgb_cl,X2,y2,cv=5,verbose=1).mean()"
      ]
    },
    {
      "cell_type": "markdown",
      "metadata": {
        "hidden": true,
        "id": "KxY_Ri_EOLCv"
      },
      "source": [
        "El mejor accuracy! y el tiempo de ejecución es pequeño"
      ]
    },
    {
      "cell_type": "code",
      "execution_count": null,
      "metadata": {
        "hidden": true,
        "id": "yYxFLru1OLCv"
      },
      "outputs": [],
      "source": [
        "xgb_cl.fit(X2,y2)\n",
        "xgb_cl.score(X2,y2)"
      ]
    },
    {
      "cell_type": "code",
      "execution_count": null,
      "metadata": {
        "hidden": true,
        "id": "5NW-206-OLCw"
      },
      "outputs": [],
      "source": [
        "best_features = pd.Series(xgb_cl.feature_importances_, index=df2.drop('AHD', axis=1).columns)\n",
        "best_features.sort_values(ascending=False)"
      ]
    },
    {
      "cell_type": "code",
      "execution_count": null,
      "metadata": {
        "hidden": true,
        "id": "KeYeuVJWOLCw"
      },
      "outputs": [],
      "source": [
        "best_features.plot(kind='bar')"
      ]
    },
    {
      "cell_type": "markdown",
      "metadata": {
        "heading_collapsed": true,
        "id": "QrZunDqDOLCw"
      },
      "source": [
        "## XGBoost: Buscando los mejores hiperparámetros"
      ]
    },
    {
      "cell_type": "markdown",
      "metadata": {
        "hidden": true,
        "id": "_l7t4ilvOLCw"
      },
      "source": [
        "### Ejemplo de `XGBRegressor` con tuneo de algunos hiperparámetros"
      ]
    },
    {
      "cell_type": "code",
      "execution_count": null,
      "metadata": {
        "hidden": true,
        "id": "FKOl2xNWOLCx"
      },
      "outputs": [],
      "source": [
        "# from xgboost import XGBRegressor()\n",
        "xgb_reg = XGBRegressor()\n",
        "clf = GridSearchCV( xgb_reg,\n",
        "                  {'max_depth':range(2,12,2), # produndidades de 2 hasta 10 con incrementos de 2\n",
        "                   'n_estimators': range(25,201,25),\n",
        "                  'learning_rate':np.arange(0.1,0.15,0.01)},\n",
        "                   cv = 5, n_jobs=-1,verbose=1)\n",
        "clf.fit(X,y)"
      ]
    },
    {
      "cell_type": "markdown",
      "metadata": {
        "hidden": true,
        "id": "AzOqUPbMOLCz"
      },
      "source": [
        "En mi equipo, gasta un tiempo de 3.3s con un total de 1000 ajustes! Es muy muy rápida esta libreria!"
      ]
    },
    {
      "cell_type": "code",
      "execution_count": null,
      "metadata": {
        "hidden": true,
        "id": "hTluu4oGOLCz"
      },
      "outputs": [],
      "source": [
        "print(clf.best_score_) # Los mejores hiperparametros\n",
        "print(clf.best_params_) # r2_score de la validacion cruzada"
      ]
    },
    {
      "cell_type": "markdown",
      "metadata": {
        "hidden": true,
        "id": "vq_rJdYOOLCz"
      },
      "source": [
        "Es el mejor resultado tiene un R^2 de 0.66 obtenidos con árboles con 2 de profundidad máxima, máximo 50 árboles y una tasa de aprendizaje de 0.14."
      ]
    },
    {
      "cell_type": "markdown",
      "metadata": {
        "hidden": true,
        "id": "W-DVbvruOLCz"
      },
      "source": [
        "### Ejemplo de `XGBClassifier` con tuneo de algunos hiperparámetros\n",
        "Este ejemplo tiene la mismam configuración del ejemplo con regresión."
      ]
    },
    {
      "cell_type": "code",
      "execution_count": null,
      "metadata": {
        "hidden": true,
        "id": "jOmNoc4JOLC0"
      },
      "outputs": [],
      "source": [
        "xgb_cl = XGBClassifier()\n",
        "clf = GridSearchCV( xgb_cl,\n",
        "                  {'max_depth':range(2,12,2), # profundidades de 2 hasta 10 con incrementos de 2\n",
        "                   'n_estimators': range(25,201,25),\n",
        "                  'learning_rate':np.arange(0.1,0.15,0.01)},\n",
        "                   cv = 5, n_jobs=-1,verbose=1)\n",
        "clf.fit(X2,y2)"
      ]
    },
    {
      "cell_type": "code",
      "execution_count": null,
      "metadata": {
        "hidden": true,
        "id": "77c8jk7wOLC0"
      },
      "outputs": [],
      "source": [
        "print(clf.best_score_) # Los mejores hiperparametros\n",
        "print(clf.best_params_) # r2_score de la validacion cruzada"
      ]
    },
    {
      "cell_type": "code",
      "execution_count": null,
      "metadata": {
        "hidden": true,
        "id": "cF8XViEwOLC0"
      },
      "outputs": [],
      "source": [
        "best_features = pd.Series(clf.best_estimator_.feature_importances_, index=df2.drop('AHD', axis=1).columns)\n",
        "best_features.sort_values(ascending=False)"
      ]
    },
    {
      "cell_type": "code",
      "execution_count": null,
      "metadata": {
        "hidden": true,
        "id": "jvL4YesOOLC0"
      },
      "outputs": [],
      "source": [
        "# Una configuracion mas variada para GridSearch:\n",
        "# param_grid = {\n",
        "#         'silent': [False],\n",
        "#         'max_depth': [6, 10, 15, 20],\n",
        "#         'learning_rate': [0.001, 0.01, 0.1, 0.2, 0,3],\n",
        "#         'subsample': [0.5, 0.6, 0.7, 0.8, 0.9, 1.0],\n",
        "#         'colsample_bytree': [0.4, 0.5, 0.6, 0.7, 0.8, 0.9, 1.0],\n",
        "#         'colsample_bylevel': [0.4, 0.5, 0.6, 0.7, 0.8, 0.9, 1.0],\n",
        "#         'min_child_weight': [0.5, 1.0, 3.0, 5.0, 7.0, 10.0],\n",
        "#         'gamma': [0, 0.25, 0.5, 1.0],\n",
        "#         'reg_lambda': [0.1, 1.0, 5.0, 10.0, 50.0, 100.0],\n",
        "#         'n_estimators': [25,50,75,100,125,150]}\n"
      ]
    },
    {
      "cell_type": "markdown",
      "metadata": {
        "hidden": true,
        "id": "0JIFg3BGOLC0"
      },
      "source": [
        "### Ahora un ejemplo usando `RandomizedSearchCV`\n",
        "Esta clase permite hacer una búsqueda aleatoria de un número determinado de combinaciones aleatorias para unos parámetros definidos ya sean por una lista de valores o una distribución específica."
      ]
    },
    {
      "cell_type": "code",
      "execution_count": null,
      "metadata": {
        "hidden": true,
        "scrolled": true,
        "id": "rwh7LI_yOLC1"
      },
      "outputs": [],
      "source": [
        "# from sklearn.modecl_selection import RandomizedSearchCV\n",
        "# from scipy.stats import randint, uniform\n",
        "\n",
        "xgb_cl = XGBClassifier()\n",
        "param_grid = {\"max_depth\": randint(2,5),\n",
        "              \"learning_rate\": uniform(0.001,0.4), \n",
        "              \"n_estimators\": randint(25,200)}\n",
        "\n",
        "# Se probaran 200 combinaciones de los parametros definidos en param_dist\n",
        "# en cada validacion cruzada, es decir, 1000 iteraciones\n",
        "clf = RandomizedSearchCV(xgb_cl, param_grid, n_iter=400, cv=5, n_jobs=-1,verbose=1, random_state=42)\n",
        "\n",
        "clf.fit(X2,y2)\n"
      ]
    },
    {
      "cell_type": "code",
      "execution_count": null,
      "metadata": {
        "hidden": true,
        "scrolled": true,
        "id": "wQAMnI9OOLC1"
      },
      "outputs": [],
      "source": [
        "print(clf.best_score_) # Los mejores hiperparametros\n",
        "print(clf.best_params_) # accuracy medio de la validacion cruzada"
      ]
    },
    {
      "cell_type": "markdown",
      "metadata": {
        "hidden": true,
        "id": "mjohwrjJOLC1"
      },
      "source": [
        "**El mejor accuracy en validación cruzada!**"
      ]
    },
    {
      "cell_type": "code",
      "execution_count": null,
      "metadata": {
        "hidden": true,
        "id": "ZdII6Dt9OLC1"
      },
      "outputs": [],
      "source": [
        "best_features = pd.Series(clf.best_estimator_.feature_importances_, index=df2.drop('AHD', axis=1).columns)\n",
        "best_features.sort_values(ascending=False)"
      ]
    },
    {
      "cell_type": "markdown",
      "metadata": {
        "id": "_rZfZR6kOLC1"
      },
      "source": [
        "# Ejercicios\n",
        "\n",
        "[1]. Para el dataset de `heart.csv` realice lo siguiente:\n",
        "\n",
        "* Realice una división entre training y test sets.\n",
        "* Ajuste un modelo de clasificación con árboles de decisión, Random forest, Bagging trees, y Gradient boosting trees usando validación cruzada para el training set y evalue los resultados con el test set. ¿Cúal es el mejor?\n",
        "* Utilice la importancia de las variables del mejor modelo anterior para hacer una selección de variables, luego proceda a ajustar un nuevo modelo con el mejor clasificador usando validación cruzada y probando sobre el Test set.\n",
        "* Utilice las herramientas necesarias (pipeline, GridSearchCV) para encontrar la mejor tasa de aprendizaje, la profundidad máxima y el número de árboles,  del modelo Gradient Boosting Trees (recomendable usar XGBBoost).\n",
        "* Intente crear el mejor modelo posible ajustando más hiperparámetros del modelo con mejor resultado en las pruebas anteriores.\n",
        "\n",
        "[2] Repita todos los pasos anteriores para la regresión usando el dataset `hitters.csv`"
      ]
    }
  ],
  "metadata": {
    "kernelspec": {
      "display_name": "Python 3",
      "language": "python",
      "name": "python3"
    },
    "language_info": {
      "codemirror_mode": {
        "name": "ipython",
        "version": 3
      },
      "file_extension": ".py",
      "mimetype": "text/x-python",
      "name": "python",
      "nbconvert_exporter": "python",
      "pygments_lexer": "ipython3",
      "version": "3.8.5"
    },
    "nbTranslate": {
      "displayLangs": [
        "*"
      ],
      "hotkey": "alt-t",
      "langInMainMenu": true,
      "sourceLang": "en",
      "targetLang": "fr",
      "useGoogleTranslate": true
    },
    "varInspector": {
      "cols": {
        "lenName": 16,
        "lenType": 16,
        "lenVar": 40
      },
      "kernels_config": {
        "python": {
          "delete_cmd_postfix": "",
          "delete_cmd_prefix": "del ",
          "library": "var_list.py",
          "varRefreshCmd": "print(var_dic_list())"
        },
        "r": {
          "delete_cmd_postfix": ") ",
          "delete_cmd_prefix": "rm(",
          "library": "var_list.r",
          "varRefreshCmd": "cat(var_dic_list()) "
        }
      },
      "types_to_exclude": [
        "module",
        "function",
        "builtin_function_or_method",
        "instance",
        "_Feature"
      ],
      "window_display": false
    },
    "colab": {
      "provenance": [],
      "collapsed_sections": [
        "dn3XceMmOLCr",
        "m9TzU5IdOLCu",
        "_l7t4ilvOLCw",
        "W-DVbvruOLCz",
        "0JIFg3BGOLC0"
      ]
    }
  },
  "nbformat": 4,
  "nbformat_minor": 0
}